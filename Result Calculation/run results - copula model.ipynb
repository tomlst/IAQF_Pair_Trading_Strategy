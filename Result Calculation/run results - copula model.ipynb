{
 "cells": [
  {
   "cell_type": "code",
   "execution_count": 3,
   "metadata": {},
   "outputs": [],
   "source": [
    "import yfinance as yf\n",
    "import trader\n",
    "import numpy as np"
   ]
  },
  {
   "cell_type": "code",
   "execution_count": 9,
   "metadata": {},
   "outputs": [],
   "source": [
    "import os\n",
    "import pandas as pd\n",
    "\n",
    "# pair_infos = ['BZQ_ERY_2017', 'CATH_SPLG_2018', 'HIPS_TPYP_2019', 'LABD_REW_2020', 'CATH_SPLG_2021']\n",
    "pair_infos = ['FUTY_VPU_2017', 'VEU_VXUS_2018', 'IVW_VOOG_2019', 'FENY_VDE_2020', 'SPYG_VOOG_2021' ]\n",
    "# pair_infos = ['BRZU_DUST_2022',]\n",
    "\n",
    "\n",
    "path_output = \"./outputs/outputs_PCA/\"\n",
    "graph_output = False"
   ]
  },
  {
   "cell_type": "code",
   "execution_count": 3,
   "metadata": {},
   "outputs": [],
   "source": [
    "# pair = [\"BZQ\", \"ERY\"]\n",
    "# prices = yf.download(pair,start=\"2015-01-01\",end=\"2016-12-31\")[\"Adj Close\"]\n",
    "# prices_present, signals = trader.generate_signals_dynamic(prices, threshold=0.2, freq=1, rolling=True)\n"
   ]
  },
  {
   "cell_type": "code",
   "execution_count": 4,
   "metadata": {},
   "outputs": [],
   "source": [
    "# df_return = trader.calculate_return(prices_present,0,signals,\"cumulative1\")"
   ]
  },
  {
   "cell_type": "code",
   "execution_count": 5,
   "metadata": {},
   "outputs": [],
   "source": [
    "# from matplotlib import pyplot as plt\n",
    "# # plt.plot((df_return[\"unrealized_pnl_cum\"].pct_change()+1).fillna(0).replace([np.Inf, -np.inf],1))\n",
    "# plt.plot(df_return[\"unrealized_pnl_cum\"])\n",
    "# plt.plot(df_return[\"unrealized_pnl_cum\"].expanding().std().fillna(0))\n",
    "# df_return[\"unrealized_pnl_cum\"].expanding().std().fillna(0)"
   ]
  },
  {
   "cell_type": "code",
   "execution_count": 15,
   "metadata": {},
   "outputs": [
    {
     "name": "stdout",
     "output_type": "stream",
     "text": [
      "-------------------------------------------------\n",
      "running FUTY_VPU_2017\n",
      "[*********************100%***********************]  2 of 2 completed\n",
      "historical 0 503\n",
      "present 504 754\n",
      "frank is optimal for FUTY and VPU\n",
      "optimal copula used:  frank\n",
      "frank is optimal for FUTY and VPU\n",
      "... cumulative1\n",
      "... cumulative2\n",
      "-------------------------------------------------\n",
      "running VEU_VXUS_2018\n",
      "[*********************100%***********************]  2 of 2 completed\n",
      "historical 0 502\n",
      "present 503 752\n",
      "frank is optimal for VEU and VXUS\n",
      "optimal copula used:  frank\n",
      "frank is optimal for VEU and VXUS\n",
      "... cumulative1\n",
      "... cumulative2\n",
      "-------------------------------------------------\n",
      "running IVW_VOOG_2019\n",
      "[*********************100%***********************]  2 of 2 completed\n",
      "historical 0 501\n",
      "present 502 752\n",
      "frank is optimal for IVW and VOOG\n",
      "optimal copula used:  frank\n",
      "frank is optimal for IVW and VOOG\n",
      "... cumulative1\n",
      "... cumulative2\n",
      "-------------------------------------------------\n",
      "running FENY_VDE_2020\n",
      "[*********************100%***********************]  2 of 2 completed\n",
      "historical 0 502\n",
      "present 503 754\n",
      "frank is optimal for FENY and VDE\n",
      "optimal copula used:  frank\n",
      "frank is optimal for FENY and VDE\n",
      "... cumulative1\n",
      "... cumulative2\n",
      "-------------------------------------------------\n",
      "running SPYG_VOOG_2021\n",
      "[*********************100%***********************]  2 of 2 completed\n",
      "historical 0 504\n",
      "present 505 755\n",
      "frank is optimal for SPYG and VOOG\n",
      "optimal copula used:  frank\n",
      "frank is optimal for SPYG and VOOG\n",
      "... cumulative1\n",
      "... cumulative2\n",
      "DONE\n"
     ]
    }
   ],
   "source": [
    "ret_summary = {}\n",
    "\n",
    "for pair_info in pair_infos:\n",
    "    print(\"-------------------------------------------------\")\n",
    "    print(\"running\", pair_info)\n",
    "    # try:\n",
    "    x,y,year = pair_info.split(\"_\")\n",
    "    year = int(year)\n",
    "    prices = yf.download([x,y],start=str(year-2)+\"-01-01\",end=str(year)+\"-12-31\")[\"Adj Close\"]\n",
    "\n",
    "    prices_present, signals = trader.generate_signals_dynamic(prices, threshold=0.49, freq=1, rolling=True)\n",
    "\n",
    "    ret_info = {}\n",
    "    for strategy in [\"cumulative1\", \"cumulative2\"]:\n",
    "        print(\"...\", strategy)\n",
    "        df_return = trader.calculate_return(prices_present,0,signals,strategy)\n",
    "        if graph_output:\n",
    "            fig_name = pair_info+\" \"+strategy+\" freq1\"\n",
    "            f, _ = trader.plot_summary(df_return, fig_name)\n",
    "            f.savefig(path_output+fig_name+\".png\")\n",
    "        ret_summary[pair_info+\" \"+strategy] = trader.get_summary_copula(df_return, prices)\n",
    "\n",
    "    # ret_summary[pair_info] = ret_info\n",
    "    # except:\n",
    "    #     print(\"failed signal generation for\",pair_info,\"... continue\")\n",
    "    #     pass\n",
    "\n",
    "# # money_ret_summary = pd.DataFrame.from_dict(ret_summary, orient='index')\n",
    "money_ret_summary = pd.DataFrame.from_dict(ret_summary, orient='index')\n",
    "# # money_ret_summary.columns = df_signals.columns\n",
    "money_ret_summary.to_excel(path_output+\"result_summary_0.49_5y_2022_0227.xlsx\")\n",
    "\n",
    "print(\"DONE\")"
   ]
  },
  {
   "cell_type": "code",
   "execution_count": null,
   "metadata": {},
   "outputs": [],
   "source": [
    "# money_ret_summary = pd.DataFrame.from_dict(ret_summary, orient='index')\n",
    "money_ret_summary = pd.DataFrame.from_dict(ret_summary, orient='index')\n",
    "# money_ret_summary.columns = df_signals.columns\n",
    "money_ret_summary.to_excel(path_output+\"result_summary.xlsx\")\n",
    "\n"
   ]
  },
  {
   "cell_type": "code",
   "execution_count": 31,
   "metadata": {},
   "outputs": [
    {
     "name": "stdout",
     "output_type": "stream",
     "text": [
      "-------------------------------------------------\n",
      "running BRZU_DUST_2022\n",
      "[*********************100%***********************]  2 of 2 completed\n",
      "historical 0 504\n",
      "present 505 755\n",
      "gumbel is optimal for BRZU and DUST\n",
      "optimal copula used:  gumbel\n",
      "gumbel is optimal for BRZU and DUST\n",
      "DONE\n",
      "0.13219009891657177\n",
      "0.06383528962340511\n",
      "0.0\n",
      "0.0\n"
     ]
    }
   ],
   "source": [
    "# pair_infos = ['BZQ_ERY_2017', 'CATH_SPLG_2018', 'HIPS_TPYP_2019', 'LABD_REW_2020', 'CATH_SPLG_2021']\n",
    "# pair_infos = ['FUTY_VPU_2017', 'VEU_VXUS_2018', 'IVW_VOOG_2019', 'FENY_VDE_2020', 'SPYG_VOOG_2021' ]\n",
    "pair_infos = ['BRZU_DUST_2022',]\n",
    "path_output = \"./outputs/outputs_ML/\"\n",
    "ret_summary = {}\n",
    "pairs_pnl = pd.DataFrame()\n",
    "pairs_pnl_all = pd.DataFrame()\n",
    "strategy = \"cumulative1\"\n",
    "prev_cum_pnl = 0\n",
    "\n",
    "for pair_info in pair_infos:\n",
    "    print(\"-------------------------------------------------\")\n",
    "    print(\"running\", pair_info)\n",
    "    # try:\n",
    "    x,y,year = pair_info.split(\"_\")\n",
    "    year = int(year)\n",
    "    prices = yf.download([x,y],start=str(year-2)+\"-01-01\",end=str(year)+\"-12-31\")[\"Adj Close\"]\n",
    "\n",
    "    prices_present, signals = trader.generate_signals_dynamic(prices, threshold=0.2, freq=1, rolling=True)\n",
    "\n",
    "    ret_info = {}\n",
    "    df_return = trader.calculate_return(prices_present,0,signals,strategy)\n",
    "    ret_summary[pair_info+\" \"+strategy] = trader.get_summary_copula(df_return, prices)\n",
    "\n",
    "    pairs_pnl = df_return[[\"unrealized_pnl_cum\",\"unrealized_PnL\", \"realized_pnl_daily\", \"realized_max_drawdown\", \"realized_avg_drawdown\"]].fillna(0)\n",
    "    if pairs_pnl.empty :\n",
    "        pairs_pnl_all = pairs_pnl.copy()\n",
    "    else: \n",
    "        pairs_pnl[\"unrealized_pnl_cum\"] = df_return[\"unrealized_pnl_cum\"] + prev_cum_pnl\n",
    "        pairs_pnl_all = pairs_pnl_all.append(pairs_pnl)\n",
    "\n",
    "    prev_cum_pnl = prev_cum_pnl + df_return[\"unrealized_pnl_cum\"][-1]\n",
    "\n",
    "    # print(df_return[\"unrealized_pnl_cum\"])\n",
    "    # ret_summary[pair_info] = ret_info\n",
    "    # except:\n",
    "    #     print(\"failed signal generation for\",pair_info,\"... continue\")\n",
    "    #     pass\n",
    "\n",
    "# # money_ret_summary = pd.DataFrame.from_dict(ret_summary, orient='index')\n",
    "# money_ret_summary = pd.DataFrame.from_dict(ret_summary, orient='index')\n",
    "# # money_ret_summary.columns = df_signals.columns\n",
    "# money_ret_summary.to_excel(path_output+\"result_summary_0.35_1.xlsx\")\n",
    "\n",
    "print(\"DONE\")\n",
    "\n",
    "pairs_pnl_all[\"unrealized_max_drawdown\"] = ((pairs_pnl_all[\"unrealized_pnl_cum\"].cummax() - pairs_pnl_all[\"unrealized_pnl_cum\"])/pairs_pnl_all[\"unrealized_pnl_cum\"].cummax()).fillna(0).replace([np.inf,-np.inf],0)\n",
    "pairs_pnl_all[\"unrealized_avg_drawdown\"] = pairs_pnl_all['unrealized_max_drawdown'].expanding().mean().fillna(0)\n",
    "\n",
    "\n",
    "\n",
    "print(pairs_pnl_all[\"unrealized_PnL\"].std())\n",
    "print(pairs_pnl_all[\"realized_pnl_daily\"].std())\n",
    "print(pairs_pnl_all[\"realized_max_drawdown\"].max())\n",
    "print(pairs_pnl_all[\"realized_avg_drawdown\"].max())\n",
    "\n",
    "\n",
    "pairs_pnl_all.to_excel(path_output+\"pairs_pnl_2022_cum1_226.xlsx\")"
   ]
  },
  {
   "cell_type": "code",
   "execution_count": 7,
   "metadata": {},
   "outputs": [
    {
     "name": "stdout",
     "output_type": "stream",
     "text": [
      "0.5194360762879934\n",
      "0.07501257082775757\n",
      "6.695559685012056\n",
      "0.5698348668095367\n"
     ]
    }
   ],
   "source": [
    "# ML 5y cum1\n",
    "\n",
    "print(pairs_pnl_all[\"unrealized_PnL\"].std())\n",
    "print(pairs_pnl_all[\"realized_pnl_daily\"].std())\n",
    "print(pairs_pnl_all[\"realized_max_drawdown\"].max())\n",
    "print(pairs_pnl_all[\"realized_avg_drawdown\"].max())\n",
    "\n",
    "\n",
    "pairs_pnl_all.to_excel(path_output+\"pairs_pnl_5y_cum1_226.xlsx\")"
   ]
  },
  {
   "cell_type": "code",
   "execution_count": 9,
   "metadata": {},
   "outputs": [
    {
     "name": "stdout",
     "output_type": "stream",
     "text": [
      "0.15484713764739433\n",
      "0.033425878616271144\n",
      "1.909298975466369\n",
      "0.46713033811840876\n"
     ]
    }
   ],
   "source": [
    "# ML 5y cum2\n",
    "\n",
    "print(pairs_pnl_all[\"unrealized_PnL\"].std())\n",
    "print(pairs_pnl_all[\"realized_pnl_daily\"].std())\n",
    "print(pairs_pnl_all[\"realized_max_drawdown\"].max())\n",
    "print(pairs_pnl_all[\"realized_avg_drawdown\"].max())\n",
    "\n",
    "\n",
    "pairs_pnl_all.to_excel(path_output+\"pairs_pnl_5y_cum2_226.xlsx\")"
   ]
  },
  {
   "cell_type": "code",
   "execution_count": 15,
   "metadata": {},
   "outputs": [
    {
     "name": "stdout",
     "output_type": "stream",
     "text": [
      "0.13219009210715216\n",
      "0.06383528764228327\n",
      "0.0\n",
      "0.0\n"
     ]
    }
   ],
   "source": [
    "# ML 2022 cum1\n",
    "print(pairs_pnl_all[\"unrealized_PnL\"].std())\n",
    "print(pairs_pnl_all[\"realized_pnl_daily\"].std())\n",
    "print(pairs_pnl_all[\"realized_max_drawdown\"].max())\n",
    "print(pairs_pnl_all[\"realized_avg_drawdown\"].max())\n",
    "\n",
    "\n",
    "pairs_pnl_all.to_excel(path_output+\"pairs_pnl_1y_2022_cum1_226.xlsx\")"
   ]
  },
  {
   "cell_type": "code",
   "execution_count": 18,
   "metadata": {},
   "outputs": [
    {
     "name": "stdout",
     "output_type": "stream",
     "text": [
      "0.18055494368216288\n",
      "0.07211856221947661\n",
      "0.0\n",
      "0.0\n"
     ]
    }
   ],
   "source": [
    "# ML 2022 cum2\n",
    "\n",
    "print(pairs_pnl_all[\"unrealized_PnL\"].std())\n",
    "print(pairs_pnl_all[\"realized_pnl_daily\"].std())\n",
    "print(pairs_pnl_all[\"realized_max_drawdown\"].max())\n",
    "print(pairs_pnl_all[\"realized_avg_drawdown\"].max())\n",
    "\n",
    "\n",
    "pairs_pnl_all.to_excel(path_output+\"pairs_pnl_1y_2022_cum2_226.xlsx\")"
   ]
  },
  {
   "cell_type": "code",
   "execution_count": 23,
   "metadata": {},
   "outputs": [
    {
     "name": "stdout",
     "output_type": "stream",
     "text": [
      "-0.011350302362651998\n",
      "0.0036979148283457068\n",
      "0.00047642417213604937\n",
      "2.513520274273743\n",
      "0.009974286802673583\n"
     ]
    }
   ],
   "source": [
    "# PCA 5yr cum1\n",
    "print(pairs_pnl_all[\"unrealized_pnl_cum\"][-1])\n",
    "print(pairs_pnl_all[\"unrealized_PnL\"].std())\n",
    "print(pairs_pnl_all[\"realized_pnl_daily\"].std())\n",
    "print(pairs_pnl_all[\"realized_max_drawdown\"].max())\n",
    "print(pairs_pnl_all[\"realized_avg_drawdown\"].max())\n",
    "\n",
    "\n",
    "pairs_pnl_all.to_excel(path_output+\"pairs_pnl_5y_cum1_226.xlsx\")"
   ]
  },
  {
   "cell_type": "code",
   "execution_count": 26,
   "metadata": {},
   "outputs": [
    {
     "name": "stdout",
     "output_type": "stream",
     "text": [
      "0.0015097092167241088\n",
      "0.002719535636502317\n",
      "0.0006237786708593762\n",
      "0.7036711908024562\n",
      "0.002792345995247842\n"
     ]
    }
   ],
   "source": [
    "#PCA 5yr cum2 \n",
    "print(pairs_pnl_all[\"unrealized_pnl_cum\"][-1])\n",
    "print(pairs_pnl_all[\"unrealized_PnL\"].std())\n",
    "print(pairs_pnl_all[\"realized_pnl_daily\"].std())\n",
    "print(pairs_pnl_all[\"realized_max_drawdown\"].max())\n",
    "print(pairs_pnl_all[\"realized_avg_drawdown\"].max())\n",
    "\n",
    "\n",
    "pairs_pnl_all.to_excel(path_output+\"pairs_pnl_5y_cum2_226.xlsx\")"
   ]
  }
 ],
 "metadata": {
  "kernelspec": {
   "display_name": "Python 3",
   "language": "python",
   "name": "python3"
  },
  "language_info": {
   "codemirror_mode": {
    "name": "ipython",
    "version": 3
   },
   "file_extension": ".py",
   "mimetype": "text/x-python",
   "name": "python",
   "nbconvert_exporter": "python",
   "pygments_lexer": "ipython3",
   "version": "3.10.6"
  },
  "orig_nbformat": 4,
  "vscode": {
   "interpreter": {
    "hash": "f0b475a77ee5c332ac0f56cd7e5ca638cc723c9d6764efed44e206b2405026c2"
   }
  }
 },
 "nbformat": 4,
 "nbformat_minor": 2
}
