{
 "cells": [
  {
   "cell_type": "code",
   "execution_count": 65,
   "metadata": {},
   "outputs": [],
   "source": [
    "import yfinance as yf\n",
    "import trader\n",
    "import numpy as np"
   ]
  },
  {
   "cell_type": "code",
   "execution_count": 71,
   "metadata": {},
   "outputs": [],
   "source": [
    "import os\n",
    "import pandas as pd\n",
    "\n",
    "path_data = \"./ML Pairs\"\n",
    "file_names = os.listdir(path_data)\n",
    "# if you want to run a subset, then overwirte the file_names list\n",
    "# file_names = [... , ..., ...]\n",
    "\n",
    "# specifiy the output folder\n",
    "path_result = \"./Results 0224 ML Pairs/\"\n",
    "\n",
    "graph_output = False"
   ]
  },
  {
   "cell_type": "code",
   "execution_count": 72,
   "metadata": {},
   "outputs": [
    {
     "data": {
      "text/plain": [
       "['BZQ_ERY_2017',\n",
       " 'CATH_SPLG_2018',\n",
       " 'CATH_SPLG_2021',\n",
       " 'HIPS_TPYP_2019',\n",
       " 'LABD_REW_2020']"
      ]
     },
     "execution_count": 72,
     "metadata": {},
     "output_type": "execute_result"
    }
   ],
   "source": [
    "file_names"
   ]
  },
  {
   "cell_type": "code",
   "execution_count": 73,
   "metadata": {},
   "outputs": [
    {
     "name": "stdout",
     "output_type": "stream",
     "text": [
      "-------------------------------------------------\n",
      "running BZQ_ERY_2017\n",
      "[*********************100%***********************]  2 of 2 completed\n",
      "... D = 0.2\n",
      "... D = 0.3\n",
      "... D = 0.4\n",
      "... D = 0.5\n",
      "... D = 0.6\n",
      "... D = 0.8\n",
      "-------------------------------------------------\n",
      "running CATH_SPLG_2018\n",
      "[*********************100%***********************]  2 of 2 completed\n",
      "... D = 0.2\n",
      "... D = 0.3\n",
      "... D = 0.4\n",
      "... D = 0.5\n",
      "... D = 0.6\n",
      "... D = 0.8\n",
      "-------------------------------------------------\n",
      "running CATH_SPLG_2021\n",
      "[*********************100%***********************]  2 of 2 completed\n",
      "... D = 0.2\n",
      "... D = 0.3\n",
      "... D = 0.4\n",
      "... D = 0.5\n",
      "... D = 0.6\n",
      "... D = 0.8\n",
      "-------------------------------------------------\n",
      "running HIPS_TPYP_2019\n",
      "[*********************100%***********************]  2 of 2 completed\n",
      "... D = 0.2\n",
      "... D = 0.3\n",
      "... D = 0.4\n",
      "... D = 0.5\n",
      "... D = 0.6\n",
      "... D = 0.8\n",
      "-------------------------------------------------\n",
      "running LABD_REW_2020\n",
      "[*********************100%***********************]  2 of 2 completed\n",
      "... D = 0.2\n",
      "... D = 0.3\n",
      "... D = 0.4\n",
      "... D = 0.5\n",
      "... D = 0.6\n",
      "... D = 0.8\n",
      "                 D = 0.2   D = 0.3   D = 0.4   D = 0.5   D = 0.6   D = 0.8\n",
      "BZQ_ERY_2017   -0.418320 -0.418320 -0.400893 -0.400893 -0.400893 -0.372091\n",
      "CATH_SPLG_2018  0.043742  0.043376  0.038421  0.033987  0.038600  0.016096\n",
      "CATH_SPLG_2021  0.014842  0.016189  0.019157  0.014498  0.014498  0.000000\n",
      "HIPS_TPYP_2019  0.022986  0.022986  0.013703  0.020618  0.020618  0.027173\n",
      "LABD_REW_2020  -0.267183 -0.267183 -0.297671 -0.286153 -0.286153 -0.258016\n",
      "DONE\n"
     ]
    }
   ],
   "source": [
    "money_ret_summary = {}\n",
    "\n",
    "for file_name in file_names:\n",
    "    print(\"-------------------------------------------------\")\n",
    "    print(\"running\", file_name)\n",
    "    x,y,year = file_name.split(\"_\")\n",
    "    start=str(year)+'-1-1'; end=str(year)+'-12-31'\n",
    "    prices = yf.download([x,y],start,end)[\"Adj Close\"]\n",
    "    path = path_data + '/' + file_name\n",
    "    # print(path)\n",
    "    df_signals = pd.read_csv(f'{path}', index_col=0)\n",
    "    df_signals.index = prices.index\n",
    "\n",
    "    money_ret = []\n",
    "    for threshold in df_signals.columns:\n",
    "        print(\"...\", threshold)\n",
    "        df_return = trader.calculate_return(prices,0,df_signals[threshold],\"mispricing_method\")\n",
    "        if graph_output:\n",
    "            fig_name = file_name[:-4]+\" \"+threshold\n",
    "            f, _ = trader.plot_summary(df_return, fig_name)\n",
    "            f.savefig(path_result+fig_name+\".png\")\n",
    "\n",
    "        money_ret.append(df_return[\"realized_pnl_cum\"][-1])\n",
    "\n",
    "    money_ret_summary[file_name] = money_ret\n",
    "\n",
    "excel_result_path = path_result + '/result_summary.xlsx'\n",
    "money_ret_summary = pd.DataFrame.from_dict(money_ret_summary, orient='index')\n",
    "money_ret_summary.columns = df_signals.columns\n",
    "print(money_ret_summary)\n",
    "#money_ret_summary.to_excel('result_summary_strategy_1')\n",
    "\n",
    "print(\"DONE\")"
   ]
  },
  {
   "cell_type": "code",
   "execution_count": 74,
   "metadata": {},
   "outputs": [
    {
     "data": {
      "text/html": [
       "<div>\n",
       "<style scoped>\n",
       "    .dataframe tbody tr th:only-of-type {\n",
       "        vertical-align: middle;\n",
       "    }\n",
       "\n",
       "    .dataframe tbody tr th {\n",
       "        vertical-align: top;\n",
       "    }\n",
       "\n",
       "    .dataframe thead th {\n",
       "        text-align: right;\n",
       "    }\n",
       "</style>\n",
       "<table border=\"1\" class=\"dataframe\">\n",
       "  <thead>\n",
       "    <tr style=\"text-align: right;\">\n",
       "      <th></th>\n",
       "      <th>D = 0.2</th>\n",
       "      <th>D = 0.3</th>\n",
       "      <th>D = 0.4</th>\n",
       "      <th>D = 0.5</th>\n",
       "      <th>D = 0.6</th>\n",
       "      <th>D = 0.8</th>\n",
       "    </tr>\n",
       "  </thead>\n",
       "  <tbody>\n",
       "    <tr>\n",
       "      <th>BZQ_ERY_2017</th>\n",
       "      <td>-0.418320</td>\n",
       "      <td>-0.418320</td>\n",
       "      <td>-0.400893</td>\n",
       "      <td>-0.400893</td>\n",
       "      <td>-0.400893</td>\n",
       "      <td>-0.372091</td>\n",
       "    </tr>\n",
       "    <tr>\n",
       "      <th>CATH_SPLG_2018</th>\n",
       "      <td>0.043742</td>\n",
       "      <td>0.043376</td>\n",
       "      <td>0.038421</td>\n",
       "      <td>0.033987</td>\n",
       "      <td>0.038600</td>\n",
       "      <td>0.016096</td>\n",
       "    </tr>\n",
       "    <tr>\n",
       "      <th>CATH_SPLG_2021</th>\n",
       "      <td>0.014842</td>\n",
       "      <td>0.016189</td>\n",
       "      <td>0.019157</td>\n",
       "      <td>0.014498</td>\n",
       "      <td>0.014498</td>\n",
       "      <td>0.000000</td>\n",
       "    </tr>\n",
       "    <tr>\n",
       "      <th>HIPS_TPYP_2019</th>\n",
       "      <td>0.022986</td>\n",
       "      <td>0.022986</td>\n",
       "      <td>0.013703</td>\n",
       "      <td>0.020618</td>\n",
       "      <td>0.020618</td>\n",
       "      <td>0.027173</td>\n",
       "    </tr>\n",
       "    <tr>\n",
       "      <th>LABD_REW_2020</th>\n",
       "      <td>-0.267183</td>\n",
       "      <td>-0.267183</td>\n",
       "      <td>-0.297671</td>\n",
       "      <td>-0.286153</td>\n",
       "      <td>-0.286153</td>\n",
       "      <td>-0.258016</td>\n",
       "    </tr>\n",
       "  </tbody>\n",
       "</table>\n",
       "</div>"
      ],
      "text/plain": [
       "                 D = 0.2   D = 0.3   D = 0.4   D = 0.5   D = 0.6   D = 0.8\n",
       "BZQ_ERY_2017   -0.418320 -0.418320 -0.400893 -0.400893 -0.400893 -0.372091\n",
       "CATH_SPLG_2018  0.043742  0.043376  0.038421  0.033987  0.038600  0.016096\n",
       "CATH_SPLG_2021  0.014842  0.016189  0.019157  0.014498  0.014498  0.000000\n",
       "HIPS_TPYP_2019  0.022986  0.022986  0.013703  0.020618  0.020618  0.027173\n",
       "LABD_REW_2020  -0.267183 -0.267183 -0.297671 -0.286153 -0.286153 -0.258016"
      ]
     },
     "execution_count": 74,
     "metadata": {},
     "output_type": "execute_result"
    }
   ],
   "source": [
    "money_ret_summary"
   ]
  },
  {
   "cell_type": "code",
   "execution_count": 70,
   "metadata": {},
   "outputs": [],
   "source": [
    "# for file_name in file_names:\n",
    "#     print(\"-------------------------------------------------\")\n",
    "#     print(\"running\", file_name)\n",
    "#     x,y,year = file_name[:-4].split(\"_\")\n",
    "#     prices = yf.download([x,y],start=str(int(year)-2)+\"-01-01\",end=year+\"-12-31\")[\"Adj Close\"].fillna(0)\n",
    "#     trader.plot_pair_and_spread(prices, year+\"-01-01\")"
   ]
  }
 ],
 "metadata": {
  "kernelspec": {
   "display_name": "Python 3",
   "language": "python",
   "name": "python3"
  },
  "language_info": {
   "codemirror_mode": {
    "name": "ipython",
    "version": 3
   },
   "file_extension": ".py",
   "mimetype": "text/x-python",
   "name": "python",
   "nbconvert_exporter": "python",
   "pygments_lexer": "ipython3",
   "version": "3.10.6"
  },
  "orig_nbformat": 4,
  "vscode": {
   "interpreter": {
    "hash": "35382d8443e9dd8591662aa8c256bebcb675fd8c7bff9bd7cccc45928d310363"
   }
  }
 },
 "nbformat": 4,
 "nbformat_minor": 2
}
