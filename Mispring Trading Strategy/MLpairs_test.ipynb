{
 "cells": [
  {
   "cell_type": "code",
   "execution_count": 77,
   "metadata": {},
   "outputs": [],
   "source": [
    "from pairs_trading_copulas import CMPI_trading, fit_copulas\n",
    "import pandas as pd\n",
    "import matplotlib.pyplot as plt"
   ]
  },
  {
   "cell_type": "code",
   "execution_count": 100,
   "metadata": {},
   "outputs": [],
   "source": [
    "thresholds = [0.2, 0.3, 0.4, 0.5, 0.6, 0.8]\n",
    "strategy = '1'"
   ]
  },
  {
   "attachments": {},
   "cell_type": "markdown",
   "metadata": {},
   "source": [
    "2017 Trading"
   ]
  },
  {
   "cell_type": "code",
   "execution_count": 14,
   "metadata": {},
   "outputs": [
    {
     "name": "stdout",
     "output_type": "stream",
     "text": [
      "[*********************100%***********************]  2 of 2 completed\n"
     ]
    },
    {
     "name": "stderr",
     "output_type": "stream",
     "text": [
      "c:\\Users\\Prithvi\\OneDrive\\Documents\\GitHub\\IAQF2030\\Copula Trading Model\\copulas.py:322: RuntimeWarning: invalid value encountered in power\n",
      "  num = (u**(-alpha) * v**(-alpha) * (alpha+1) * (-1 + v**(-alpha) + u**(-alpha))**(-1/alpha))\n",
      "c:\\Users\\Prithvi\\OneDrive\\Documents\\GitHub\\IAQF2030\\Copula Trading Model\\copulas.py:28: RuntimeWarning: invalid value encountered in log\n",
      "  return np.log(self.pdf(u,v)).sum()\n"
     ]
    }
   ],
   "source": [
    "pair_2017 = ['BZQ', 'ERY']\n",
    "probs_trade_2017, best_copula_2017 = fit_copulas(pair_2017,'2015-1-1', '2016-12-31', '2017-1-1', '2017-12-31')"
   ]
  },
  {
   "cell_type": "code",
   "execution_count": 101,
   "metadata": {},
   "outputs": [],
   "source": [
    "BZQ_ERY = pd.DataFrame()\n",
    "for threshold in thresholds:\n",
    "    positions, position = CMPI_trading(probs_trade_2017, threshold, strategy)\n",
    "    BZQ_ERY[f'D = {threshold}'] = position\n",
    "\n",
    "BZQ_ERY = BZQ_ERY.set_index(positions.index)\n",
    "BZQ_ERY.to_csv('../Copula Trading Model/ML Pairs/BZQ_ERY_2017')"
   ]
  },
  {
   "attachments": {},
   "cell_type": "markdown",
   "metadata": {},
   "source": [
    "2018"
   ]
  },
  {
   "cell_type": "code",
   "execution_count": 71,
   "metadata": {},
   "outputs": [
    {
     "name": "stdout",
     "output_type": "stream",
     "text": [
      "[*********************100%***********************]  2 of 2 completed\n"
     ]
    },
    {
     "ename": "KeyboardInterrupt",
     "evalue": "",
     "output_type": "error",
     "traceback": [
      "\u001b[1;31m---------------------------------------------------------------------------\u001b[0m",
      "\u001b[1;31mKeyboardInterrupt\u001b[0m                         Traceback (most recent call last)",
      "Cell \u001b[1;32mIn [71], line 2\u001b[0m\n\u001b[0;32m      1\u001b[0m pair_2018 \u001b[39m=\u001b[39m [\u001b[39m'\u001b[39m\u001b[39mCATH\u001b[39m\u001b[39m'\u001b[39m, \u001b[39m'\u001b[39m\u001b[39mSPLG\u001b[39m\u001b[39m'\u001b[39m]\n\u001b[1;32m----> 2\u001b[0m probs_trade_2018, best_copula_2018 \u001b[39m=\u001b[39m fit_copulas(pair_2018, \u001b[39m'\u001b[39;49m\u001b[39m2016-1-1\u001b[39;49m\u001b[39m'\u001b[39;49m, \u001b[39m'\u001b[39;49m\u001b[39m2017-12-31\u001b[39;49m\u001b[39m'\u001b[39;49m, \u001b[39m'\u001b[39;49m\u001b[39m2018-1-1\u001b[39;49m\u001b[39m'\u001b[39;49m, \u001b[39m'\u001b[39;49m\u001b[39m2018-12-31\u001b[39;49m\u001b[39m'\u001b[39;49m)\n",
      "File \u001b[1;32mc:\\Users\\Prithvi\\OneDrive\\Documents\\GitHub\\IAQF2030\\Copula Trading Model\\pairs_trading_copulas.py:81\u001b[0m, in \u001b[0;36mfit_copulas\u001b[1;34m(tickers, form_start, form_end, trade_start, trade_end)\u001b[0m\n\u001b[0;32m     79\u001b[0m MI_Y_X \u001b[39m=\u001b[39m []; MI_X_Y\u001b[39m=\u001b[39m []\n\u001b[0;32m     80\u001b[0m \u001b[39mfor\u001b[39;00m u,v \u001b[39min\u001b[39;00m \u001b[39mzip\u001b[39m(dist_t1\u001b[39m.\u001b[39mcdf(returns_trade[tickers[\u001b[39m0\u001b[39m]]), dist_t2\u001b[39m.\u001b[39mcdf(returns_trade[tickers[\u001b[39m1\u001b[39m]])):\n\u001b[1;32m---> 81\u001b[0m     MI_X_Y\u001b[39m.\u001b[39mappend(best_copula\u001b[39m.\u001b[39;49mcdf_u_given_v(u,v))\n\u001b[0;32m     82\u001b[0m     MI_Y_X\u001b[39m.\u001b[39mappend(best_copula\u001b[39m.\u001b[39mcdf_v_given_u(u,v))\n\u001b[0;32m     84\u001b[0m MIXY \u001b[39m=\u001b[39m np\u001b[39m.\u001b[39marray(MI_X_Y) \u001b[39m-\u001b[39m \u001b[39m0.5\u001b[39m; MIYX \u001b[39m=\u001b[39m np\u001b[39m.\u001b[39marray(MI_Y_X) \u001b[39m-\u001b[39m \u001b[39m0.5\u001b[39m\n",
      "File \u001b[1;32mc:\\Users\\Prithvi\\OneDrive\\Documents\\GitHub\\IAQF2030\\Copula Trading Model\\copulas.py:43\u001b[0m, in \u001b[0;36mCopula.cdf_u_given_v\u001b[1;34m(self, u, v)\u001b[0m\n\u001b[0;32m     41\u001b[0m \u001b[39m# generate sample if it does not exist\u001b[39;00m\n\u001b[0;32m     42\u001b[0m \u001b[39mif\u001b[39;00m \u001b[39mlen\u001b[39m(\u001b[39mself\u001b[39m\u001b[39m.\u001b[39mprob_sample) \u001b[39m==\u001b[39m \u001b[39m0\u001b[39m:\n\u001b[1;32m---> 43\u001b[0m     \u001b[39mself\u001b[39m\u001b[39m.\u001b[39mprob_sample \u001b[39m=\u001b[39m \u001b[39mself\u001b[39;49m\u001b[39m.\u001b[39;49msample(size\u001b[39m=\u001b[39;49m\u001b[39mself\u001b[39;49m\u001b[39m.\u001b[39;49mprob_sample_size)\n\u001b[0;32m     44\u001b[0m \u001b[39m# calculate conditional CDF\u001b[39;00m\n\u001b[0;32m     45\u001b[0m s_u \u001b[39m=\u001b[39m \u001b[39mself\u001b[39m\u001b[39m.\u001b[39mprob_sample[:,\u001b[39m0\u001b[39m]\n",
      "File \u001b[1;32mc:\\Users\\Prithvi\\OneDrive\\Documents\\GitHub\\IAQF2030\\Copula Trading Model\\copulas.py:228\u001b[0m, in \u001b[0;36mArchimedeanCopula.sample\u001b[1;34m(self, size)\u001b[0m\n\u001b[0;32m    226\u001b[0m \u001b[39mfor\u001b[39;00m t \u001b[39min\u001b[39;00m t2:\n\u001b[0;32m    227\u001b[0m     func \u001b[39m=\u001b[39m \u001b[39mlambda\u001b[39;00m w: \u001b[39mself\u001b[39m\u001b[39m.\u001b[39mK(w) \u001b[39m-\u001b[39m t\n\u001b[1;32m--> 228\u001b[0m     w\u001b[39m.\u001b[39mappend(brentq(func, \u001b[39m0.0000000001\u001b[39;49m, \u001b[39m0.9999999999\u001b[39;49m))\n\u001b[0;32m    229\u001b[0m w \u001b[39m=\u001b[39m np\u001b[39m.\u001b[39marray(w)\u001b[39m.\u001b[39mflatten()\n\u001b[0;32m    231\u001b[0m \u001b[39m# step 4\u001b[39;00m\n",
      "File \u001b[1;32mc:\\Users\\Prithvi\\AppData\\Local\\Programs\\Python\\Python310\\lib\\site-packages\\scipy\\optimize\\_zeros_py.py:783\u001b[0m, in \u001b[0;36mbrentq\u001b[1;34m(f, a, b, args, xtol, rtol, maxiter, full_output, disp)\u001b[0m\n\u001b[0;32m    781\u001b[0m \u001b[39mif\u001b[39;00m rtol \u001b[39m<\u001b[39m _rtol:\n\u001b[0;32m    782\u001b[0m     \u001b[39mraise\u001b[39;00m \u001b[39mValueError\u001b[39;00m(\u001b[39m\"\u001b[39m\u001b[39mrtol too small (\u001b[39m\u001b[39m%g\u001b[39;00m\u001b[39m < \u001b[39m\u001b[39m%g\u001b[39;00m\u001b[39m)\u001b[39m\u001b[39m\"\u001b[39m \u001b[39m%\u001b[39m (rtol, _rtol))\n\u001b[1;32m--> 783\u001b[0m r \u001b[39m=\u001b[39m _zeros\u001b[39m.\u001b[39;49m_brentq(f, a, b, xtol, rtol, maxiter, args, full_output, disp)\n\u001b[0;32m    784\u001b[0m \u001b[39mreturn\u001b[39;00m results_c(full_output, r)\n",
      "File \u001b[1;32mc:\\Users\\Prithvi\\OneDrive\\Documents\\GitHub\\IAQF2030\\Copula Trading Model\\copulas.py:227\u001b[0m, in \u001b[0;36mArchimedeanCopula.sample.<locals>.<lambda>\u001b[1;34m(w)\u001b[0m\n\u001b[0;32m    225\u001b[0m w \u001b[39m=\u001b[39m []\n\u001b[0;32m    226\u001b[0m \u001b[39mfor\u001b[39;00m t \u001b[39min\u001b[39;00m t2:\n\u001b[1;32m--> 227\u001b[0m     func \u001b[39m=\u001b[39m \u001b[39mlambda\u001b[39;00m w: \u001b[39mself\u001b[39;49m\u001b[39m.\u001b[39;49mK(w) \u001b[39m-\u001b[39m t\n\u001b[0;32m    228\u001b[0m     w\u001b[39m.\u001b[39mappend(brentq(func, \u001b[39m0.0000000001\u001b[39m, \u001b[39m0.9999999999\u001b[39m))\n\u001b[0;32m    229\u001b[0m w \u001b[39m=\u001b[39m np\u001b[39m.\u001b[39marray(w)\u001b[39m.\u001b[39mflatten()\n",
      "\u001b[1;31mKeyboardInterrupt\u001b[0m: "
     ]
    }
   ],
   "source": [
    "pair_2018 = ['CATH', 'SPLG']\n",
    "probs_trade_2018, best_copula_2018 = fit_copulas(pair_2018, '2016-1-1', '2017-12-31', '2018-1-1', '2018-12-31')"
   ]
  },
  {
   "cell_type": "code",
   "execution_count": 102,
   "metadata": {},
   "outputs": [],
   "source": [
    "CATH_SPLG = pd.DataFrame()\n",
    "\n",
    "for threshold in thresholds:\n",
    "    positions, position = CMPI_trading(probs_trade_2018, threshold, strategy)\n",
    "    CATH_SPLG[f'D = {threshold}'] = position\n",
    "\n",
    "CATH_SPLG = CATH_SPLG.set_index(positions.index)\n",
    "CATH_SPLG.to_csv('../Copula Trading Model/ML Pairs/CATH_SPLG_2018')"
   ]
  },
  {
   "attachments": {},
   "cell_type": "markdown",
   "metadata": {},
   "source": [
    "2019"
   ]
  },
  {
   "cell_type": "code",
   "execution_count": 20,
   "metadata": {},
   "outputs": [
    {
     "name": "stdout",
     "output_type": "stream",
     "text": [
      "[*********************100%***********************]  2 of 2 completed\n"
     ]
    },
    {
     "name": "stderr",
     "output_type": "stream",
     "text": [
      "c:\\Users\\Prithvi\\OneDrive\\Documents\\GitHub\\IAQF2030\\Copula Trading Model\\copulas.py:28: RuntimeWarning: invalid value encountered in log\n",
      "  return np.log(self.pdf(u,v)).sum()\n"
     ]
    }
   ],
   "source": [
    "pair_2019 = ['HIPS', 'TPYP']\n",
    "probs_trade_2019, best_copula_2019 = fit_copulas(pair_2019, '2017-1-1', '2018-12-31', '2019-1-1', '2019-12-31')"
   ]
  },
  {
   "cell_type": "code",
   "execution_count": 103,
   "metadata": {},
   "outputs": [],
   "source": [
    "HIPS_TPYP = pd.DataFrame()\n",
    "\n",
    "for threshold in thresholds:\n",
    "    positions, position = CMPI_trading(probs_trade_2019, threshold, strategy)\n",
    "    HIPS_TPYP[f'D = {threshold}'] = position\n",
    "\n",
    "HIPS_TPYP = HIPS_TPYP.set_index(positions.index)\n",
    "HIPS_TPYP.to_csv('../Copula Trading Model/ML Pairs/HIPS_TPYP_2019')"
   ]
  },
  {
   "attachments": {},
   "cell_type": "markdown",
   "metadata": {},
   "source": [
    "2020"
   ]
  },
  {
   "cell_type": "code",
   "execution_count": 7,
   "metadata": {},
   "outputs": [
    {
     "name": "stdout",
     "output_type": "stream",
     "text": [
      "[*********************100%***********************]  2 of 2 completed\n"
     ]
    },
    {
     "name": "stderr",
     "output_type": "stream",
     "text": [
      "c:\\Users\\Prithvi\\OneDrive\\Documents\\GitHub\\IAQF2030\\Copula Trading Model\\copulas.py:28: RuntimeWarning: divide by zero encountered in log\n",
      "  return np.log(self.pdf(u,v)).sum()\n",
      "c:\\Users\\Prithvi\\OneDrive\\Documents\\GitHub\\IAQF2030\\Copula Trading Model\\copulas.py:28: RuntimeWarning: invalid value encountered in log\n",
      "  return np.log(self.pdf(u,v)).sum()\n"
     ]
    }
   ],
   "source": [
    "pair_2020 = ['LABD', 'REW']\n",
    "probs_trade_2020, best_copula_2020 = fit_copulas(pair_2020, '2018-1-1', '2019-12-31', '2020-1-1', '2020-12-31')"
   ]
  },
  {
   "cell_type": "code",
   "execution_count": 104,
   "metadata": {},
   "outputs": [],
   "source": [
    "LABD_REW = pd.DataFrame()\n",
    "\n",
    "for threshold in thresholds:\n",
    "    positions, position = CMPI_trading(probs_trade_2020, threshold, strategy)\n",
    "    LABD_REW[f'D = {threshold}'] = position\n",
    "\n",
    "LABD_REW = LABD_REW.set_index(positions.index)\n",
    "LABD_REW.to_csv('../Copula Trading Model/ML Pairs/LABD_REW_2020')"
   ]
  },
  {
   "attachments": {},
   "cell_type": "markdown",
   "metadata": {},
   "source": [
    "2021"
   ]
  },
  {
   "cell_type": "code",
   "execution_count": 10,
   "metadata": {},
   "outputs": [
    {
     "name": "stdout",
     "output_type": "stream",
     "text": [
      "[*********************100%***********************]  2 of 2 completed\n"
     ]
    },
    {
     "name": "stderr",
     "output_type": "stream",
     "text": [
      "c:\\Users\\Prithvi\\OneDrive\\Documents\\GitHub\\IAQF2030\\Copula Trading Model\\copulas.py:322: RuntimeWarning: overflow encountered in multiply\n",
      "  num = (u**(-alpha) * v**(-alpha) * (alpha+1) * (-1 + v**(-alpha) + u**(-alpha))**(-1/alpha))\n",
      "c:\\Users\\Prithvi\\OneDrive\\Documents\\GitHub\\IAQF2030\\Copula Trading Model\\copulas.py:323: RuntimeWarning: overflow encountered in square\n",
      "  denom = u * v * (-1 + v**(-alpha) + u**(-alpha))**2\n",
      "c:\\Users\\Prithvi\\OneDrive\\Documents\\GitHub\\IAQF2030\\Copula Trading Model\\copulas.py:324: RuntimeWarning: invalid value encountered in divide\n",
      "  return num/denom\n"
     ]
    }
   ],
   "source": [
    "pair_21 = ['CATH', 'SPLG']\n",
    "probs_trade_21, best_copula_21 = fit_copulas(pair_21, '2019-1-1', '2020-12-31', '2021-1-1', '2021-12-31')"
   ]
  },
  {
   "cell_type": "code",
   "execution_count": 30,
   "metadata": {},
   "outputs": [
    {
     "data": {
      "text/plain": [
       "<copulas.GumbelCopula at 0x15f7b671960>"
      ]
     },
     "execution_count": 30,
     "metadata": {},
     "output_type": "execute_result"
    }
   ],
   "source": [
    "best_copula_21"
   ]
  },
  {
   "cell_type": "code",
   "execution_count": 105,
   "metadata": {},
   "outputs": [],
   "source": [
    "CATH_SPLG_21 = pd.DataFrame()\n",
    "\n",
    "for threshold in thresholds:\n",
    "    positions, position = CMPI_trading(probs_trade_21, threshold, strategy)\n",
    "    CATH_SPLG_21[f'D = {threshold}'] = position\n",
    "\n",
    "CATH_SPLG_21 = CATH_SPLG_21.set_index(positions.index)\n",
    "CATH_SPLG_21.to_csv('../Copula Trading Model/ML Pairs/CATH_SPLG_2021')"
   ]
  },
  {
   "cell_type": "code",
   "execution_count": 108,
   "metadata": {},
   "outputs": [
    {
     "name": "stdout",
     "output_type": "stream",
     "text": [
      "[*********************100%***********************]  2 of 2 completed\n"
     ]
    },
    {
     "name": "stderr",
     "output_type": "stream",
     "text": [
      "c:\\Users\\Prithvi\\OneDrive\\Documents\\GitHub\\IAQF2030\\Copula Trading Model\\copulas.py:323: RuntimeWarning: overflow encountered in square\n",
      "  denom = u * v * (-1 + v**(-alpha) + u**(-alpha))**2\n",
      "c:\\Users\\Prithvi\\OneDrive\\Documents\\GitHub\\IAQF2030\\Copula Trading Model\\copulas.py:28: RuntimeWarning: divide by zero encountered in log\n",
      "  return np.log(self.pdf(u,v)).sum()\n",
      "c:\\Users\\Prithvi\\AppData\\Local\\Programs\\Python\\Python310\\lib\\site-packages\\scipy\\optimize\\_optimize.py:2132: RuntimeWarning: invalid value encountered in double_scalars\n",
      "  q = (xf - fulc) * (fx - fnfc)\n"
     ]
    },
    {
     "ename": "KeyboardInterrupt",
     "evalue": "",
     "output_type": "error",
     "traceback": [
      "\u001b[1;31m---------------------------------------------------------------------------\u001b[0m",
      "\u001b[1;31mKeyboardInterrupt\u001b[0m                         Traceback (most recent call last)",
      "Cell \u001b[1;32mIn [108], line 2\u001b[0m\n\u001b[0;32m      1\u001b[0m pair_22 \u001b[39m=\u001b[39m [\u001b[39m'\u001b[39m\u001b[39mGDX\u001b[39m\u001b[39m'\u001b[39m, \u001b[39m'\u001b[39m\u001b[39mGOAU\u001b[39m\u001b[39m'\u001b[39m]\n\u001b[1;32m----> 2\u001b[0m probs_trade_22, best_copula_22 \u001b[39m=\u001b[39m fit_copulas(pair_22, \u001b[39m'\u001b[39;49m\u001b[39m2020-1-1\u001b[39;49m\u001b[39m'\u001b[39;49m, \u001b[39m'\u001b[39;49m\u001b[39m2021-12-31\u001b[39;49m\u001b[39m'\u001b[39;49m, \u001b[39m'\u001b[39;49m\u001b[39m2022-1-1\u001b[39;49m\u001b[39m'\u001b[39;49m, \u001b[39m'\u001b[39;49m\u001b[39m2022-12-31\u001b[39;49m\u001b[39m'\u001b[39;49m)\n",
      "File \u001b[1;32mc:\\Users\\Prithvi\\OneDrive\\Documents\\GitHub\\IAQF2030\\Copula Trading Model\\pairs_trading_copulas.py:81\u001b[0m, in \u001b[0;36mfit_copulas\u001b[1;34m(tickers, form_start, form_end, trade_start, trade_end)\u001b[0m\n\u001b[0;32m     79\u001b[0m MI_Y_X \u001b[39m=\u001b[39m []; MI_X_Y\u001b[39m=\u001b[39m []\n\u001b[0;32m     80\u001b[0m \u001b[39mfor\u001b[39;00m u,v \u001b[39min\u001b[39;00m \u001b[39mzip\u001b[39m(dist_t1\u001b[39m.\u001b[39mcdf(returns_trade[tickers[\u001b[39m0\u001b[39m]]), dist_t2\u001b[39m.\u001b[39mcdf(returns_trade[tickers[\u001b[39m1\u001b[39m]])):\n\u001b[1;32m---> 81\u001b[0m     MI_X_Y\u001b[39m.\u001b[39mappend(best_copula\u001b[39m.\u001b[39;49mcdf_u_given_v(u,v))\n\u001b[0;32m     82\u001b[0m     MI_Y_X\u001b[39m.\u001b[39mappend(best_copula\u001b[39m.\u001b[39mcdf_v_given_u(u,v))\n\u001b[0;32m     84\u001b[0m MIXY \u001b[39m=\u001b[39m np\u001b[39m.\u001b[39marray(MI_X_Y) \u001b[39m-\u001b[39m \u001b[39m0.5\u001b[39m; MIYX \u001b[39m=\u001b[39m np\u001b[39m.\u001b[39marray(MI_Y_X) \u001b[39m-\u001b[39m \u001b[39m0.5\u001b[39m\n",
      "File \u001b[1;32mc:\\Users\\Prithvi\\OneDrive\\Documents\\GitHub\\IAQF2030\\Copula Trading Model\\copulas.py:43\u001b[0m, in \u001b[0;36mCopula.cdf_u_given_v\u001b[1;34m(self, u, v)\u001b[0m\n\u001b[0;32m     41\u001b[0m \u001b[39m# generate sample if it does not exist\u001b[39;00m\n\u001b[0;32m     42\u001b[0m \u001b[39mif\u001b[39;00m \u001b[39mlen\u001b[39m(\u001b[39mself\u001b[39m\u001b[39m.\u001b[39mprob_sample) \u001b[39m==\u001b[39m \u001b[39m0\u001b[39m:\n\u001b[1;32m---> 43\u001b[0m     \u001b[39mself\u001b[39m\u001b[39m.\u001b[39mprob_sample \u001b[39m=\u001b[39m \u001b[39mself\u001b[39;49m\u001b[39m.\u001b[39;49msample(size\u001b[39m=\u001b[39;49m\u001b[39mself\u001b[39;49m\u001b[39m.\u001b[39;49mprob_sample_size)\n\u001b[0;32m     44\u001b[0m \u001b[39m# calculate conditional CDF\u001b[39;00m\n\u001b[0;32m     45\u001b[0m s_u \u001b[39m=\u001b[39m \u001b[39mself\u001b[39m\u001b[39m.\u001b[39mprob_sample[:,\u001b[39m0\u001b[39m]\n",
      "File \u001b[1;32mc:\\Users\\Prithvi\\OneDrive\\Documents\\GitHub\\IAQF2030\\Copula Trading Model\\copulas.py:228\u001b[0m, in \u001b[0;36mArchimedeanCopula.sample\u001b[1;34m(self, size)\u001b[0m\n\u001b[0;32m    226\u001b[0m \u001b[39mfor\u001b[39;00m t \u001b[39min\u001b[39;00m t2:\n\u001b[0;32m    227\u001b[0m     func \u001b[39m=\u001b[39m \u001b[39mlambda\u001b[39;00m w: \u001b[39mself\u001b[39m\u001b[39m.\u001b[39mK(w) \u001b[39m-\u001b[39m t\n\u001b[1;32m--> 228\u001b[0m     w\u001b[39m.\u001b[39mappend(brentq(func, \u001b[39m0.0000000001\u001b[39;49m, \u001b[39m0.9999999999\u001b[39;49m))\n\u001b[0;32m    229\u001b[0m w \u001b[39m=\u001b[39m np\u001b[39m.\u001b[39marray(w)\u001b[39m.\u001b[39mflatten()\n\u001b[0;32m    231\u001b[0m \u001b[39m# step 4\u001b[39;00m\n",
      "File \u001b[1;32mc:\\Users\\Prithvi\\AppData\\Local\\Programs\\Python\\Python310\\lib\\site-packages\\scipy\\optimize\\_zeros_py.py:783\u001b[0m, in \u001b[0;36mbrentq\u001b[1;34m(f, a, b, args, xtol, rtol, maxiter, full_output, disp)\u001b[0m\n\u001b[0;32m    781\u001b[0m \u001b[39mif\u001b[39;00m rtol \u001b[39m<\u001b[39m _rtol:\n\u001b[0;32m    782\u001b[0m     \u001b[39mraise\u001b[39;00m \u001b[39mValueError\u001b[39;00m(\u001b[39m\"\u001b[39m\u001b[39mrtol too small (\u001b[39m\u001b[39m%g\u001b[39;00m\u001b[39m < \u001b[39m\u001b[39m%g\u001b[39;00m\u001b[39m)\u001b[39m\u001b[39m\"\u001b[39m \u001b[39m%\u001b[39m (rtol, _rtol))\n\u001b[1;32m--> 783\u001b[0m r \u001b[39m=\u001b[39m _zeros\u001b[39m.\u001b[39;49m_brentq(f, a, b, xtol, rtol, maxiter, args, full_output, disp)\n\u001b[0;32m    784\u001b[0m \u001b[39mreturn\u001b[39;00m results_c(full_output, r)\n",
      "File \u001b[1;32mc:\\Users\\Prithvi\\OneDrive\\Documents\\GitHub\\IAQF2030\\Copula Trading Model\\copulas.py:227\u001b[0m, in \u001b[0;36mArchimedeanCopula.sample.<locals>.<lambda>\u001b[1;34m(w)\u001b[0m\n\u001b[0;32m    225\u001b[0m w \u001b[39m=\u001b[39m []\n\u001b[0;32m    226\u001b[0m \u001b[39mfor\u001b[39;00m t \u001b[39min\u001b[39;00m t2:\n\u001b[1;32m--> 227\u001b[0m     func \u001b[39m=\u001b[39m \u001b[39mlambda\u001b[39;00m w: \u001b[39mself\u001b[39;49m\u001b[39m.\u001b[39;49mK(w) \u001b[39m-\u001b[39m t\n\u001b[0;32m    228\u001b[0m     w\u001b[39m.\u001b[39mappend(brentq(func, \u001b[39m0.0000000001\u001b[39m, \u001b[39m0.9999999999\u001b[39m))\n\u001b[0;32m    229\u001b[0m w \u001b[39m=\u001b[39m np\u001b[39m.\u001b[39marray(w)\u001b[39m.\u001b[39mflatten()\n",
      "\u001b[1;31mKeyboardInterrupt\u001b[0m: "
     ]
    }
   ],
   "source": [
    "pair_22 = ['GDX', 'GOAU']\n",
    "probs_trade_22, best_copula_22 = fit_copulas(pair_22, '2020-1-1', '2021-12-31', '2022-1-1', '2022-12-31')"
   ]
  }
 ],
 "metadata": {
  "kernelspec": {
   "display_name": "Python 3",
   "language": "python",
   "name": "python3"
  },
  "language_info": {
   "codemirror_mode": {
    "name": "ipython",
    "version": 3
   },
   "file_extension": ".py",
   "mimetype": "text/x-python",
   "name": "python",
   "nbconvert_exporter": "python",
   "pygments_lexer": "ipython3",
   "version": "3.10.6"
  },
  "orig_nbformat": 4,
  "vscode": {
   "interpreter": {
    "hash": "35382d8443e9dd8591662aa8c256bebcb675fd8c7bff9bd7cccc45928d310363"
   }
  }
 },
 "nbformat": 4,
 "nbformat_minor": 2
}
