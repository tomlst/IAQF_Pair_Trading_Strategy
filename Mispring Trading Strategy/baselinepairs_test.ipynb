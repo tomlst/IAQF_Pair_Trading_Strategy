{
 "cells": [
  {
   "cell_type": "code",
   "execution_count": 1,
   "metadata": {},
   "outputs": [],
   "source": [
    "from pairs_trading_copulas import CMPI_trading, fit_copulas\n",
    "import pandas as pd\n",
    "import matplotlib.pyplot as plt"
   ]
  },
  {
   "cell_type": "code",
   "execution_count": 2,
   "metadata": {},
   "outputs": [],
   "source": [
    "thresholds = [0.4, 0.6, 0.8]"
   ]
  },
  {
   "attachments": {},
   "cell_type": "markdown",
   "metadata": {},
   "source": [
    "2017 Trading"
   ]
  },
  {
   "cell_type": "code",
   "execution_count": 4,
   "metadata": {},
   "outputs": [
    {
     "name": "stdout",
     "output_type": "stream",
     "text": [
      "[*********************100%***********************]  2 of 2 completed\n"
     ]
    }
   ],
   "source": [
    "pair_2017 = ['FUTY', 'VPU']\n",
    "probs_trade_2017, best_copula_2017 = fit_copulas(pair_2017,'2015-1-1', '2016-12-31', '2017-1-1', '2017-12-31')"
   ]
  },
  {
   "cell_type": "code",
   "execution_count": 22,
   "metadata": {},
   "outputs": [],
   "source": [
    "FUTY_VPU = pd.DataFrame()\n",
    "\n",
    "for threshold in thresholds:\n",
    "    positions, position = CMPI_trading(probs_trade_2017, threshold, strategy ='1')\n",
    "    FUTY_VPU[f'D = {threshold}'] = position\n",
    "\n",
    "FUTY_VPU = FUTY_VPU.set_index(positions.index)\n",
    "FUTY_VPU.to_csv('../Copula Trading Model/Baseline Pairs/FUTY_VPU')"
   ]
  },
  {
   "attachments": {},
   "cell_type": "markdown",
   "metadata": {},
   "source": [
    "2018"
   ]
  },
  {
   "cell_type": "code",
   "execution_count": 5,
   "metadata": {},
   "outputs": [
    {
     "name": "stdout",
     "output_type": "stream",
     "text": [
      "[*********************100%***********************]  2 of 2 completed\n"
     ]
    },
    {
     "name": "stderr",
     "output_type": "stream",
     "text": [
      "c:\\Users\\Prithvi\\OneDrive\\Documents\\GitHub\\IAQF2030\\Copula Trading Model\\copulas.py:322: RuntimeWarning: overflow encountered in multiply\n",
      "  num = (u**(-alpha) * v**(-alpha) * (alpha+1) * (-1 + v**(-alpha) + u**(-alpha))**(-1/alpha))\n",
      "c:\\Users\\Prithvi\\OneDrive\\Documents\\GitHub\\IAQF2030\\Copula Trading Model\\copulas.py:323: RuntimeWarning: overflow encountered in square\n",
      "  denom = u * v * (-1 + v**(-alpha) + u**(-alpha))**2\n",
      "c:\\Users\\Prithvi\\OneDrive\\Documents\\GitHub\\IAQF2030\\Copula Trading Model\\copulas.py:324: RuntimeWarning: invalid value encountered in divide\n",
      "  return num/denom\n",
      "c:\\Users\\Prithvi\\AppData\\Local\\Programs\\Python\\Python310\\lib\\site-packages\\scipy\\optimize\\_optimize.py:2133: RuntimeWarning: invalid value encountered in double_scalars\n",
      "  p = (xf - fulc) * q - (xf - nfc) * r\n",
      "c:\\Users\\Prithvi\\AppData\\Local\\Programs\\Python\\Python310\\lib\\site-packages\\scipy\\optimize\\_optimize.py:2134: RuntimeWarning: invalid value encountered in double_scalars\n",
      "  q = 2.0 * (q - r)\n",
      "c:\\Users\\Prithvi\\AppData\\Local\\Programs\\Python\\Python310\\lib\\site-packages\\scipy\\optimize\\_optimize.py:2132: RuntimeWarning: invalid value encountered in double_scalars\n",
      "  q = (xf - fulc) * (fx - fnfc)\n",
      "c:\\Users\\Prithvi\\AppData\\Local\\Programs\\Python\\Python310\\lib\\site-packages\\scipy\\optimize\\_optimize.py:2131: RuntimeWarning: invalid value encountered in double_scalars\n",
      "  r = (xf - nfc) * (fx - ffulc)\n"
     ]
    }
   ],
   "source": [
    "pair_2018 = ['VEU', 'VXUS']\n",
    "probs_trade_2018, best_copula_2018 = fit_copulas(pair_2018, '2016-1-1', '2017-12-31', '2018-1-1', '2018-12-31')"
   ]
  },
  {
   "cell_type": "code",
   "execution_count": 23,
   "metadata": {},
   "outputs": [],
   "source": [
    "VEU_VXUS = pd.DataFrame()\n",
    "\n",
    "for threshold in thresholds:\n",
    "    positions, position = CMPI_trading(probs_trade_2018, threshold, strategy ='1')\n",
    "    VEU_VXUS[f'D = {threshold}'] = position\n",
    "\n",
    "VEU_VXUS = VEU_VXUS.set_index(positions.index)\n",
    "VEU_VXUS.to_csv('../Copula Trading Model/Baseline Pairs/VEU_VXUS')"
   ]
  },
  {
   "attachments": {},
   "cell_type": "markdown",
   "metadata": {},
   "source": [
    "2019"
   ]
  },
  {
   "cell_type": "code",
   "execution_count": 6,
   "metadata": {},
   "outputs": [
    {
     "name": "stdout",
     "output_type": "stream",
     "text": [
      "[*********************100%***********************]  2 of 2 completed\n"
     ]
    },
    {
     "name": "stderr",
     "output_type": "stream",
     "text": [
      "c:\\Users\\Prithvi\\OneDrive\\Documents\\GitHub\\IAQF2030\\Copula Trading Model\\copulas.py:432: RuntimeWarning: divide by zero encountered in divide\n",
      "  return (num1 * num2 * num3) / denom\n",
      "c:\\Users\\Prithvi\\AppData\\Local\\Programs\\Python\\Python310\\lib\\site-packages\\scipy\\optimize\\_optimize.py:2133: RuntimeWarning: invalid value encountered in double_scalars\n",
      "  p = (xf - fulc) * q - (xf - nfc) * r\n",
      "c:\\Users\\Prithvi\\AppData\\Local\\Programs\\Python\\Python310\\lib\\site-packages\\scipy\\optimize\\_optimize.py:2134: RuntimeWarning: invalid value encountered in double_scalars\n",
      "  q = 2.0 * (q - r)\n",
      "c:\\Users\\Prithvi\\AppData\\Local\\Programs\\Python\\Python310\\lib\\site-packages\\scipy\\optimize\\_optimize.py:2132: RuntimeWarning: invalid value encountered in double_scalars\n",
      "  q = (xf - fulc) * (fx - fnfc)\n",
      "c:\\Users\\Prithvi\\AppData\\Local\\Programs\\Python\\Python310\\lib\\site-packages\\scipy\\optimize\\_optimize.py:2131: RuntimeWarning: invalid value encountered in double_scalars\n",
      "  r = (xf - nfc) * (fx - ffulc)\n"
     ]
    }
   ],
   "source": [
    "pair_2019 = ['IVW', 'VOOG']\n",
    "probs_trade_2019, best_copula_2019 = fit_copulas(pair_2019, '2017-1-1', '2018-12-31', '2019-1-1', '2019-12-31')"
   ]
  },
  {
   "cell_type": "code",
   "execution_count": 24,
   "metadata": {},
   "outputs": [],
   "source": [
    "IVW_VOOG = pd.DataFrame()\n",
    "\n",
    "for threshold in thresholds:\n",
    "    positions, position = CMPI_trading(probs_trade_2019, threshold, strategy ='1')\n",
    "    IVW_VOOG[f'D = {threshold}'] = position\n",
    "\n",
    "IVG_VOOG = IVW_VOOG.set_index(positions.index)\n",
    "IVW_VOOG.to_csv('../Copula Trading Model/Baseline Pairs/IVW_VOOG')"
   ]
  },
  {
   "attachments": {},
   "cell_type": "markdown",
   "metadata": {},
   "source": [
    "2020"
   ]
  },
  {
   "cell_type": "code",
   "execution_count": 10,
   "metadata": {},
   "outputs": [
    {
     "name": "stdout",
     "output_type": "stream",
     "text": [
      "[*********************100%***********************]  2 of 2 completed\n"
     ]
    }
   ],
   "source": [
    "pair_2020 = ['FENY', 'VDE']\n",
    "probs_trade_2020, best_copula_2020 = fit_copulas(pair_2020, '2018-1-1', '2019-12-31', '2020-1-1', '2020-12-31')"
   ]
  },
  {
   "cell_type": "code",
   "execution_count": 25,
   "metadata": {},
   "outputs": [],
   "source": [
    "FENY_VDE = pd.DataFrame()\n",
    "\n",
    "for threshold in thresholds:\n",
    "    positions, position = CMPI_trading(probs_trade_2020, threshold, strategy ='1')\n",
    "    FENY_VDE[f'D = {threshold}'] = position\n",
    "\n",
    "FENY_VDE = FENY_VDE.set_index(positions.index)\n",
    "FENY_VDE.to_csv('../Copula Trading Model/Baseline Pairs/FENY_VDE_2020')"
   ]
  },
  {
   "cell_type": "code",
   "execution_count": 19,
   "metadata": {},
   "outputs": [
    {
     "name": "stdout",
     "output_type": "stream",
     "text": [
      "[*********************100%***********************]  2 of 2 completed\n"
     ]
    },
    {
     "name": "stderr",
     "output_type": "stream",
     "text": [
      "c:\\Users\\Prithvi\\OneDrive\\Documents\\GitHub\\IAQF2030\\Copula Trading Model\\copulas.py:322: RuntimeWarning: overflow encountered in multiply\n",
      "  num = (u**(-alpha) * v**(-alpha) * (alpha+1) * (-1 + v**(-alpha) + u**(-alpha))**(-1/alpha))\n",
      "c:\\Users\\Prithvi\\OneDrive\\Documents\\GitHub\\IAQF2030\\Copula Trading Model\\copulas.py:323: RuntimeWarning: overflow encountered in square\n",
      "  denom = u * v * (-1 + v**(-alpha) + u**(-alpha))**2\n",
      "c:\\Users\\Prithvi\\OneDrive\\Documents\\GitHub\\IAQF2030\\Copula Trading Model\\copulas.py:324: RuntimeWarning: invalid value encountered in divide\n",
      "  return num/denom\n",
      "c:\\Users\\Prithvi\\OneDrive\\Documents\\GitHub\\IAQF2030\\Copula Trading Model\\copulas.py:28: RuntimeWarning: divide by zero encountered in log\n",
      "  return np.log(self.pdf(u,v)).sum()\n"
     ]
    }
   ],
   "source": [
    "pair_21 = ['SPYG', 'VOOG']\n",
    "probs_trade_21, best_copula_21 = fit_copulas(pair_21, '2019-1-1', '2020-12-31', '2021-1-1', '2021-12-31')"
   ]
  },
  {
   "cell_type": "code",
   "execution_count": 26,
   "metadata": {},
   "outputs": [],
   "source": [
    "SPYG_VOOG = pd.DataFrame()\n",
    "\n",
    "for threshold in thresholds:\n",
    "    positions, position = CMPI_trading(probs_trade_21, threshold, strategy ='1')\n",
    "    SPYG_VOOG[f'D = {threshold}'] = position\n",
    "\n",
    "SPYG_VOOG = SPYG_VOOG.set_index(positions.index)\n",
    "SPYG_VOOG.to_csv('../Copula Trading Model/Baseline Pairs/SPYG_VOOG')"
   ]
  },
  {
   "cell_type": "code",
   "execution_count": 21,
   "metadata": {},
   "outputs": [
    {
     "data": {
      "text/plain": [
       "<AxesSubplot:xlabel='Date'>"
      ]
     },
     "execution_count": 21,
     "metadata": {},
     "output_type": "execute_result"
    },
    {
     "data": {
      "image/png": "[encoded data removed]",
      "text/plain": [
       "<Figure size 640x480 with 1 Axes>"
      ]
     },
     "metadata": {},
     "output_type": "display_data"
    }
   ],
   "source": [
    "SPYG_VOOG.plot()"
   ]
  }
 ],
 "metadata": {
  "kernelspec": {
   "display_name": "Python 3",
   "language": "python",
   "name": "python3"
  },
  "language_info": {
   "codemirror_mode": {
    "name": "ipython",
    "version": 3
   },
   "file_extension": ".py",
   "mimetype": "text/x-python",
   "name": "python",
   "nbconvert_exporter": "python",
   "pygments_lexer": "ipython3",
   "version": "3.10.6"
  },
  "orig_nbformat": 4,
  "vscode": {
   "interpreter": {
    "hash": "35382d8443e9dd8591662aa8c256bebcb675fd8c7bff9bd7cccc45928d310363"
   }
  }
 },
 "nbformat": 4,
 "nbformat_minor": 2
}
